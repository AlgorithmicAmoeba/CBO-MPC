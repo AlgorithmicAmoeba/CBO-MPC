{
 "cells": [
  {
   "cell_type": "code",
   "execution_count": 1,
   "metadata": {},
   "outputs": [],
   "source": [
    "import numpy\n",
    "import matplotlib.pyplot as plt\n",
    "import matplotlib as mpl\n",
    "import sympy\n",
    "sympy.init_printing()\n",
    "\n",
    "import sys\n",
    "sys.path.append(\"/home/ex/Documents/Hons/CBT/Skogestad-Python\")\n",
    "import utils"
   ]
  },
  {
   "cell_type": "code",
   "execution_count": 2,
   "metadata": {},
   "outputs": [],
   "source": [
    "s = sympy.Symbol('s')"
   ]
  },
  {
   "cell_type": "code",
   "execution_count": 422,
   "metadata": {},
   "outputs": [],
   "source": [
    "def G(s):\n",
    "    return numpy.array([[1/(s+2), 3],\n",
    "                        [(s+1)/(s**2 + 2*s + 1), 5/(s**2 + 0.8*s + 4)]])\n",
    "\n",
    "def compensator(s):\n",
    "    return numpy.matrix([\n",
    "[  (-0.928002*s**2 - 1.382558723646*s - 0.514539393213244)/(0.85558*s**2 + 1.29273774542*s + 0.44787161835511),    (0.509539*s**2 + 0.284490400331*s + 0.0169160143310471)/(0.270761*s**2 + 0.617855482642*s + 0.34453577715575)],\n",
    "[(0.837391*s**2 + 0.688203094222*s + 0.109681717323021)/(0.544102*s**2 + 0.683154883528*s + 0.214293569268724), (-0.000509*s**2 - 0.000760483157*s - 0.000281241041674868)/(0.942798*s**2 + 0.39028066008*s + 0.033789928874097)]])\n",
    "\n",
    "\n",
    "def K(s):\n",
    "    Ks = numpy.array([0.00181812, 0.05750061])/5\n",
    "    tauis = numpy.array([0.15398098, 2.01643491])\n",
    "    return numpy.diag(Ks*(1 + 1/tauis/s)) "
   ]
  },
  {
   "cell_type": "code",
   "execution_count": 436,
   "metadata": {},
   "outputs": [],
   "source": [
    "GK = sympy.Matrix(G(s)) @ sympy.Matrix(compensator(s)) @ sympy.Matrix(K(s))\n",
    "# GK = sympy.Matrix(G(s)) @ sympy.Matrix(K(s))\n",
    "\n",
    "GK = GK.applyfunc(sympy.cancel)"
   ]
  },
  {
   "cell_type": "code",
   "execution_count": 453,
   "metadata": {},
   "outputs": [
    {
     "name": "stdout",
     "output_type": "stream",
     "text": [
      "\\left[\\begin{matrix}\\frac{1.0 \\left(0.000363624 s + 0.00236148646410745\\right)}{s} & 0\\\\0 & \\frac{1.0 \\left(0.011500122 s + 0.00570319524967954\\right)}{s}\\end{matrix}\\right]\n"
     ]
    }
   ],
   "source": [
    "sympy.print_latex(sympy.Matrix(K(s)).applyfunc(sympy.cancel))"
   ]
  },
  {
   "cell_type": "code",
   "execution_count": 437,
   "metadata": {},
   "outputs": [],
   "source": [
    "# GK"
   ]
  },
  {
   "cell_type": "code",
   "execution_count": 438,
   "metadata": {},
   "outputs": [],
   "source": [
    "# T = GK * (sympy.eye(2) + GK)**(-1)\n",
    "\n",
    "# GK = T.applyfunc(sympy.cancel)\n",
    "# GK"
   ]
  },
  {
   "cell_type": "code",
   "execution_count": 439,
   "metadata": {},
   "outputs": [],
   "source": [
    "nums, dens = numpy.zeros(GK.shape).tolist(), numpy.zeros(GK.shape).tolist()\n",
    "for i in range(GK.shape[0]):\n",
    "    for j in range(GK.shape[1]):\n",
    "        gk = GK[i, j]\n",
    "        n, d = [sympy.Poly(a, s).all_coeffs() for a in gk.as_numer_denom()]\n",
    "        nums[i][j] = n\n",
    "        dens[i][j] = d\n",
    "        if numpy.any(numpy.real(numpy.poly1d(d).r) > 1e-8):\n",
    "            print(\"RHP pole\")\n",
    "#             print(numpy.poly1d(d))\n",
    "            print(numpy.poly1d(d).r[numpy.poly1d(d).r > 1e-8])\n",
    "            \n",
    "nums = numpy.array(nums)\n",
    "dens = numpy.array(dens)\n",
    "delays = numpy.zeros(GK.shape)\n",
    "# nums, dens"
   ]
  },
  {
   "cell_type": "code",
   "execution_count": 440,
   "metadata": {},
   "outputs": [],
   "source": [
    "# Gnum = [[[-1], [-1]], [[1], [1]]]\n",
    "# Gden = [[[10, 1], [10, 1]], [[1e10, 1], [60, 1]]]\n",
    "# Gdelay = [[0, 0], [0, 0]]\n",
    "\n",
    "# G = utils.InternalDelay.from_tf_coefficients(Gnum, Gden, Gdelay)\n",
    "\n",
    "# K1, K2, t1, t2 = -2.5, 2, 12.5, 57\n",
    "\n",
    "# Knum = [[[K1*t1, K1], [0]], [[0], [K2*t2, K2]]]\n",
    "# Kden = [[[t1, 0], [1]], [[1], [t2, 0]]]\n",
    "# Kdelay = [[0, 0], [0, 0]]\n",
    "\n",
    "# K = utils.InternalDelay.from_tf_coefficients(Knum, Kden, Kdelay)\n",
    "\n",
    "# L = G * K"
   ]
  },
  {
   "cell_type": "code",
   "execution_count": 444,
   "metadata": {},
   "outputs": [
    {
     "data": {
      "image/png": "[encoded data removed]",
      "text/plain": [
       "<Figure size 720x360 with 2 Axes>"
      ]
     },
     "metadata": {},
     "output_type": "display_data"
    }
   ],
   "source": [
    "L = utils.InternalDelay.from_tf_coefficients(nums, dens, delays)\n",
    "\n",
    "Inum = [[[1], [0]], [[0], [1]]]\n",
    "Iden = [[[1], [1]], [[1], [1]]]\n",
    "Idelay = [[0, 0], [0, 0]]\n",
    "\n",
    "I = utils.InternalDelay.from_tf_coefficients(Inum, Iden, Idelay)\n",
    "\n",
    "T = L * (I + L)**(-1)\n",
    "\n",
    "def uf(t):\n",
    "    if t < 1000:\n",
    "        return [1, 0]\n",
    "    return [1, 1]\n",
    "\n",
    "ts = numpy.linspace(0, 3000, 6000)\n",
    "ys = T.simulate(uf, ts)\n",
    "\n",
    "plt.figure(figsize=(10, 5))\n",
    "plt.subplot(1, 2, 1)\n",
    "plt.plot(ts, ys[:, 0])\n",
    "\n",
    "plt.subplot(1, 2, 2)\n",
    "plt.plot(ts, ys[:, 1])\n",
    "plt.savefig(\"resp.pdf\")\n",
    "plt.show()"
   ]
  },
  {
   "cell_type": "code",
   "execution_count": null,
   "metadata": {},
   "outputs": [],
   "source": []
  },
  {
   "cell_type": "code",
   "execution_count": null,
   "metadata": {},
   "outputs": [],
   "source": []
  }
 ],
 "metadata": {
  "kernelspec": {
   "display_name": "Python 3",
   "language": "python",
   "name": "python3"
  },
  "language_info": {
   "codemirror_mode": {
    "name": "ipython",
    "version": 3
   },
   "file_extension": ".py",
   "mimetype": "text/x-python",
   "name": "python",
   "nbconvert_exporter": "python",
   "pygments_lexer": "ipython3",
   "version": "3.7.3"
  }
 },
 "nbformat": 4,
 "nbformat_minor": 2
}
