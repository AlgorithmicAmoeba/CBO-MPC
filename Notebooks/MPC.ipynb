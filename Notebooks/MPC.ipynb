{
 "cells": [
  {
   "cell_type": "code",
   "execution_count": 1,
   "metadata": {},
   "outputs": [],
   "source": [
    "import sys\n",
    "sys.path.append(\"/home/ex/Documents/Hons/CBT/Skogestad-Python\")\n",
    "import utils\n",
    "import numpy\n",
    "import matplotlib.pyplot as plt\n",
    "import scipy.linalg\n",
    "import cvxpy"
   ]
  },
  {
   "cell_type": "code",
   "execution_count": 2,
   "metadata": {},
   "outputs": [],
   "source": [
    "class StepModel:\n",
    "    def __init__(self, G, dt, N, P, M, integrators=True):\n",
    "        self.G = G\n",
    "        self.dt = dt\n",
    "        self.N = N\n",
    "        self.P = P\n",
    "        self.M = M\n",
    "        self.integrators = integrators\n",
    "        \n",
    "        self.outs, self.ins = self.G.D11.shape\n",
    "        \n",
    "        self.__make_step_coeffs()\n",
    "        self.__make_step_matrix()\n",
    "        \n",
    "        self.Y0 = numpy.zeros(self.A.shape[0])        \n",
    "    \n",
    "    def step_Y0(self, dU): # Untested. Will test with MPC implementation        \n",
    "        Im = numpy.eye(self.outs)\n",
    "        M_siso = numpy.eye(self.P, k=1)\n",
    "        M_siso[self.P-1][self.P-1] = 1\n",
    "        M = numpy.kron(M_siso, Im)\n",
    "        \n",
    "        A_star = self.A[:, ::self.M]\n",
    "        \n",
    "        self.Y0 += M @ self.Y0 + A_star @ dU\n",
    "        \n",
    "    def reset(self):\n",
    "        self.Y0 = numpy.zeros(self.A.shape[0])  \n",
    "        \n",
    "    def __make_step_coeffs(self):        \n",
    "        t= self.N*self.dt\n",
    "        ts = numpy.linspace(0 , t, int(t*100))\n",
    "        tstep = numpy.arange(0, t, self.dt)\n",
    "        ind = numpy.searchsorted(ts, tstep)\n",
    "        ysteps = numpy.zeros_like(self.G.D11).tolist()\n",
    "\n",
    "        for in_i in range(self.ins): \n",
    "            uf = lambda t: [0]*in_i + [1] + [0]*(self.ins-in_i-1)\n",
    "            ys = self.G.simulate(uf, ts)\n",
    "\n",
    "            for out_i in range(self.outs):\n",
    "                yi = ys[:, out_i][ind]\n",
    "                largest = 1e4\n",
    "                yi[yi>largest] = largest\n",
    "                yi[yi<-largest] = -largest\n",
    "                ysteps[out_i][in_i] = yi\n",
    "                \n",
    "        self.ysteps = numpy.array(ysteps)\n",
    "        \n",
    "    def __make_step_matrix(self):\n",
    "        if self.P < self.N:\n",
    "            cols = self.ysteps[:, :, :self.P] \n",
    "        else:\n",
    "            a = numpy.moveaxis(numpy.tile(self.ysteps[:, :, -1], (self.P - self.N,1,1)), 0, -1)\n",
    "            cols = numpy.append(self.ysteps, a, axis=2)\n",
    "        \n",
    "        rows = numpy.append(self.ysteps[:, :, :1], numpy.zeros((self.outs, self.ins, self.M-1)), axis=2)\n",
    "        As = numpy.zeros_like(self.G.D11).tolist()\n",
    "\n",
    "        for in_i in range(self.ins): \n",
    "            for out_i in range(self.outs):\n",
    "                As[out_i][in_i] = scipy.linalg.toeplitz(cols[out_i][in_i], rows[out_i][in_i])\n",
    "\n",
    "        self.A = numpy.block(As)\n",
    "        \n",
    "        if self.integrators:\n",
    "            self.__make_integrators_matrix()\n",
    "            self.A += self.B\n",
    "        \n",
    "        \n",
    "    def __make_integrators_matrix(self):\n",
    "        dys = self.ysteps[:, :, -1] - self.ysteps[:, :, -2]\n",
    "\n",
    "        if P < N:\n",
    "            cols = numpy.zeros((self.outs, self.ins, self.P))\n",
    "        else:\n",
    "            a = numpy.tile(numpy.arange(1, self.P-self.N+1), (2, 2, 1))\n",
    "            cols = numpy.append(numpy.zeros((self.outs, self.ins, self.N)), a, axis=2)\n",
    "        rows = numpy.zeros((self.outs, self.ins, self.M))\n",
    "\n",
    "        Bs = numpy.zeros_like(self.G.D11).tolist()\n",
    "\n",
    "        for in_i in range(self.ins): \n",
    "            for out_i in range(self.outs):\n",
    "                Bs[out_i][in_i] = scipy.linalg.toeplitz(cols[out_i][in_i], rows[out_i][in_i]) * dys[out_i][in_i]\n",
    "\n",
    "        self.B = numpy.block(Bs)"
   ]
  },
  {
   "cell_type": "code",
   "execution_count": 3,
   "metadata": {},
   "outputs": [],
   "source": [
    "# Slightly adapted from  H/W assignment 9\n",
    "num = [[[-0.045], [-0.048]], [[-0.23], [0.55]]]\n",
    "den = [[[1, -4, 5], [11, 1]], [[8.1, 1], [10, 1]]] # [[[8.1, 1], [11, 1]], [[8.1, 1], [10, 1]]]\n",
    "delay = [[0.5, 0.5], [1.5, 0.5]]\n",
    "G = utils.InternalDelay.from_tf_coefficients(num, den, delay)"
   ]
  },
  {
   "cell_type": "code",
   "execution_count": 4,
   "metadata": {},
   "outputs": [],
   "source": [
    "N = 50\n",
    "dt = 0.5\n",
    "M = 20\n",
    "P = M+N\n",
    "\n",
    "SM = StepModel(G, dt, N, P, M)"
   ]
  },
  {
   "cell_type": "code",
   "execution_count": 5,
   "metadata": {},
   "outputs": [],
   "source": [
    "class ModelPredictiveController:\n",
    "    def __init__(self, SM, Q=None, R=None, dU_max=None, E_max=None):\n",
    "        self.SM = SM\n",
    "        self.dU = cvxpy.Variable(SM.M*SM.ins)\n",
    "        self.Y = SM.A @ self.dU\n",
    "        self.Ysp = numpy.full(SM.P*SM.outs, 0)\n",
    "        self.E = self.Ysp - self.Y\n",
    "        \n",
    "        SM.reset()\n",
    "        \n",
    "        if Q is None:\n",
    "            Q = numpy.ones(SM.P*SM.outs)\n",
    "        \n",
    "        self.Q = numpy.diag(Q)\n",
    "        \n",
    "        if R is None:\n",
    "            R = numpy.ones(SM.M*SM.ins)\n",
    "        \n",
    "        self.R = numpy.diag(R)\n",
    "        \n",
    "        if dU_max is None:\n",
    "            dU_max = 1e20\n",
    "        \n",
    "        self.dU_max = dU_max\n",
    "        \n",
    "        if E_max is None:\n",
    "            E_max = 1e20\n",
    "        \n",
    "        self.E_max = E_max\n",
    "        \n",
    "        self.J = cvxpy.quad_form(self.E, self.Q) + cvxpy.quad_form(self.dU, self.R)\n",
    "        self.obj = cvxpy.Minimize(self.J)\n",
    "        self.cons = [cvxpy.abs(self.dU) <= self.dU_max, cvxpy.abs(self.E) <= self.E_max]\n",
    "        prob = cvxpy.Problem(self.obj, self.cons)\n",
    "        prob.solve(solver='MOSEK')\n",
    "        \n",
    "    def step(self, Yactual, Ysp=None):\n",
    "        \n",
    "        if Ysp is not None:\n",
    "            self.Ysp = Ysp\n",
    "        \n",
    "        self.bias = numpy.repeat(Yactual - self.Y.value[::SM.P], SM.P) \n",
    "\n",
    "        self.Y = SM.A @ self.dU + SM.Y0 + self.bias\n",
    "        self.E = self.Ysp - self.Y\n",
    "        self.J = cvxpy.quad_form(self.E, self.Q) + cvxpy.quad_form(self.dU, self.R)\n",
    "        self.obj = cvxpy.Minimize(self.J)\n",
    "        self.cons = [cvxpy.abs(self.dU) <= self.dU_max, cvxpy.abs(self.E) <= self.E_max]\n",
    "        \n",
    "        self.prob = cvxpy.Problem(self.obj, self.cons)\n",
    "        self.prob.solve(solver='MOSEK', warm_start=True)\n",
    "        \n",
    "        if self.prob.solution.status != 'optimal':\n",
    "            print(\"Solving problem without constraints\")\n",
    "            self.prob = cvxpy.Problem(self.obj)\n",
    "            self.prob.solve(solver='MOSEK', warm_start=True)\n",
    "            if self.prob.solution.status == 'optimal':\n",
    "                print(\"It worked!\")\n",
    "        \n",
    "        dU_out = self.dU.value[::SM.M]\n",
    "        SM.step_Y0(dU_out)\n",
    "        \n",
    "        return dU_out"
   ]
  },
  {
   "cell_type": "code",
   "execution_count": 6,
   "metadata": {},
   "outputs": [],
   "source": [
    "# MPC.prob.solve(solver='MOSEK', warm_start=True, verbose=True)"
   ]
  },
  {
   "cell_type": "code",
   "execution_count": 7,
   "metadata": {},
   "outputs": [
    {
     "data": {
      "text/plain": [
       "array([3.40537392e-04, 8.37582775e+00])"
      ]
     },
     "execution_count": 7,
     "metadata": {},
     "output_type": "execute_result"
    }
   ],
   "source": [
    "MPC = ModelPredictiveController(SM, dU_max=10, E_max=15)\n",
    "Ysp = numpy.full(P*SM.outs, 10)\n",
    "MPC.step([0, 0], Ysp)"
   ]
  },
  {
   "cell_type": "code",
   "execution_count": 8,
   "metadata": {},
   "outputs": [
    {
     "data": {
      "text/plain": [
       "True"
      ]
     },
     "execution_count": 8,
     "metadata": {},
     "output_type": "execute_result"
    }
   ],
   "source": [
    "dUs = cvxpy.Variable(M*SM.ins)\n",
    "R = numpy.full(P*SM.outs, 0)\n",
    "Y = SM.A @ dUs\n",
    "E = R - Y\n",
    "\n",
    "obj = cvxpy.Minimize(cvxpy.quad_form(E, numpy.eye(P*SM.outs)))\n",
    "cons = [cvxpy.abs(dUs) <= 10, cvxpy.abs(E) <= 15]\n",
    "\n",
    "R = numpy.full(P*SM.outs, 10)\n",
    "E = R - Y\n",
    "obj = cvxpy.Minimize(cvxpy.quad_form(E, numpy.eye(P*SM.outs)))\n",
    "\n",
    "prob = cvxpy.Problem(obj, cons)\n",
    "prob.is_dcp()"
   ]
  },
  {
   "cell_type": "code",
   "execution_count": 9,
   "metadata": {},
   "outputs": [
    {
     "data": {
      "text/plain": [
       "True"
      ]
     },
     "execution_count": 9,
     "metadata": {},
     "output_type": "execute_result"
    }
   ],
   "source": [
    "prob.is_qp()"
   ]
  },
  {
   "cell_type": "code",
   "execution_count": 10,
   "metadata": {},
   "outputs": [
    {
     "data": {
      "text/plain": [
       "6881.955015612922"
      ]
     },
     "execution_count": 10,
     "metadata": {},
     "output_type": "execute_result"
    }
   ],
   "source": [
    "# ECOS, ECOS_BB, OSQP, and SCS\n",
    "prob.solve(solver='MOSEK', warm_start=True)"
   ]
  },
  {
   "cell_type": "code",
   "execution_count": 11,
   "metadata": {},
   "outputs": [
    {
     "data": {
      "text/plain": [
       "array([3.40647907e-04, 9.99999979e+00])"
      ]
     },
     "execution_count": 11,
     "metadata": {},
     "output_type": "execute_result"
    }
   ],
   "source": [
    "dUs.value[::M]"
   ]
  },
  {
   "cell_type": "code",
   "execution_count": 12,
   "metadata": {},
   "outputs": [
    {
     "data": {
      "image/png": "[encoded data removed]",
      "text/plain": [
       "<Figure size 432x288 with 1 Axes>"
      ]
     },
     "metadata": {},
     "output_type": "display_data"
    }
   ],
   "source": [
    "plt.plot(dUs.value)\n",
    "plt.show()"
   ]
  },
  {
   "cell_type": "code",
   "execution_count": 13,
   "metadata": {},
   "outputs": [
    {
     "data": {
      "text/plain": [
       "(140,)"
      ]
     },
     "execution_count": 13,
     "metadata": {},
     "output_type": "execute_result"
    }
   ],
   "source": [
    "Y.value.shape"
   ]
  },
  {
   "cell_type": "code",
   "execution_count": 14,
   "metadata": {},
   "outputs": [
    {
     "data": {
      "image/png": "[encoded data removed]",
      "text/plain": [
       "<Figure size 432x288 with 1 Axes>"
      ]
     },
     "metadata": {},
     "output_type": "display_data"
    }
   ],
   "source": [
    "plt.plot(Y.value[:70])\n",
    "plt.show()"
   ]
  },
  {
   "cell_type": "code",
   "execution_count": 15,
   "metadata": {},
   "outputs": [
    {
     "data": {
      "image/png": "[encoded data removed]",
      "text/plain": [
       "<Figure size 432x288 with 1 Axes>"
      ]
     },
     "metadata": {},
     "output_type": "display_data"
    }
   ],
   "source": [
    "plt.plot(Y.value[70:])\n",
    "plt.show()"
   ]
  },
  {
   "cell_type": "code",
   "execution_count": 17,
   "metadata": {},
   "outputs": [],
   "source": [
    "a = SM.A"
   ]
  },
  {
   "cell_type": "code",
   "execution_count": 20,
   "metadata": {},
   "outputs": [
    {
     "data": {
      "text/plain": [
       "array([[ 0.00000000e+00,  0.00000000e+00, -5.89975614e-10, ...,\n",
       "         5.60763684e-08,  5.63368334e-08,  5.65972983e-08],\n",
       "       [ 0.00000000e+00,  0.00000000e+00, -1.25313282e-10, ...,\n",
       "         1.97426193e-08,  1.98412449e-08,  1.99398705e-08],\n",
       "       [ 0.00000000e+00,  0.00000000e+00,  2.70563894e-13, ...,\n",
       "         1.21534892e-08,  1.22218235e-08,  1.22901578e-08],\n",
       "       ...,\n",
       "       [ 0.00000000e+00,  0.00000000e+00,  3.27733164e-06, ...,\n",
       "         3.70392791e-05,  3.68492492e-05,  3.66592195e-05],\n",
       "       [ 0.00000000e+00,  0.00000000e+00, -6.35833580e-03, ...,\n",
       "        -1.35504656e+00, -1.36361290e+00, -1.37217923e+00],\n",
       "       [ 0.00000000e+00,  0.00000000e+00,  6.98168048e-03, ...,\n",
       "         1.43483776e+00,  1.44390253e+00,  1.45296731e+00]])"
      ]
     },
     "execution_count": 20,
     "metadata": {},
     "output_type": "execute_result"
    }
   ],
   "source": [
    "numpy.linalg.inv(a.T @ a) @ a.T"
   ]
  },
  {
   "cell_type": "code",
   "execution_count": null,
   "metadata": {},
   "outputs": [],
   "source": []
  }
 ],
 "metadata": {
  "kernelspec": {
   "display_name": "Python 3",
   "language": "python",
   "name": "python3"
  },
  "language_info": {
   "codemirror_mode": {
    "name": "ipython",
    "version": 3
   },
   "file_extension": ".py",
   "mimetype": "text/x-python",
   "name": "python",
   "nbconvert_exporter": "python",
   "pygments_lexer": "ipython3",
   "version": "3.7.3"
  }
 },
 "nbformat": 4,
 "nbformat_minor": 2
}
