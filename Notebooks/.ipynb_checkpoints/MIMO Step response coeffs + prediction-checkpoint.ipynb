{
 "cells": [
  {
   "cell_type": "markdown",
   "metadata": {},
   "source": [
    "Works perfectly for stable systems and systems with integrators. Does an okay job with unstable systems.\n",
    "The goal would be to test if they can stabalise a plant in closed loop conditions"
   ]
  },
  {
   "cell_type": "code",
   "execution_count": 1,
   "metadata": {},
   "outputs": [],
   "source": [
    "import sys\n",
    "sys.path.append(\"/home/ex/Documents/Hons/CBT/Skogestad-Python\")\n",
    "import utils\n",
    "import numpy\n",
    "import matplotlib.pyplot as plt\n",
    "import scipy.linalg"
   ]
  },
  {
   "cell_type": "markdown",
   "metadata": {},
   "source": [
    "### Defining the TF\n",
    "(see H/W assignment 9)"
   ]
  },
  {
   "cell_type": "code",
   "execution_count": 2,
   "metadata": {},
   "outputs": [],
   "source": [
    "# Origional system\n",
    "# num = [[[-0.045], [-0.048]], [[-0.23], [0.55]]]\n",
    "# den = [[[8.1, 1], [11, 1]], [[8.1, 1], [10, 1]]]\n",
    "# delay = [[0.5, 0.5], [1.5, 0.5]]\n",
    "# G = utils.InternalDelay.from_tf_coefficients(num, den, delay)"
   ]
  },
  {
   "cell_type": "code",
   "execution_count": 3,
   "metadata": {},
   "outputs": [],
   "source": [
    "# Integrator in 0, 0 element\n",
    "num = [[[-0.045], [-0.048]], [[-0.23], [0.55]]]\n",
    "den = [[[1, -4, 5], [11, 1]], [[8.1, 1], [10, 1]]]\n",
    "delay = [[0.5, 0.5], [1.5, 0.5]]\n",
    "G = utils.InternalDelay.from_tf_coefficients(num, den, delay)"
   ]
  },
  {
   "cell_type": "markdown",
   "metadata": {},
   "source": [
    "### Get step response paramaters"
   ]
  },
  {
   "cell_type": "code",
   "execution_count": 4,
   "metadata": {},
   "outputs": [],
   "source": [
    "N = 200\n",
    "dt = 0.5\n",
    "\n",
    "P = 100\n",
    "M = 20"
   ]
  },
  {
   "cell_type": "code",
   "execution_count": 5,
   "metadata": {},
   "outputs": [
    {
     "name": "stderr",
     "output_type": "stream",
     "text": [
      "/home/ex/anaconda3/lib/python3.6/site-packages/ipykernel_launcher.py:3: DeprecationWarning: object of type <class 'float'> cannot be safely interpreted as an integer.\n",
      "  This is separate from the ipykernel package so we can avoid doing imports until\n"
     ]
    },
    {
     "data": {
      "image/png": "[encoded data removed]",
      "text/plain": [
       "<Figure size 432x288 with 4 Axes>"
      ]
     },
     "metadata": {},
     "output_type": "display_data"
    }
   ],
   "source": [
    "outs, ins = G.D11.shape\n",
    "\n",
    "ts = numpy.linspace(0 , N*dt, N*dt*100)\n",
    "tstep = numpy.arange(0, N*dt, dt)\n",
    "ind = numpy.searchsorted(ts, tstep)\n",
    "ysteps = numpy.zeros_like(G.D11).tolist()\n",
    "\n",
    "for in_i in range(ins): \n",
    "    uf = lambda t: [0]*in_i + [1] + [0]*(ins-in_i-1)\n",
    "    ys = G.simulate(uf, ts)\n",
    "    \n",
    "    for out_i in range(outs):\n",
    "        ysteps[out_i][in_i] = ys[:, out_i][ind]\n",
    "\n",
    "ysteps = numpy.array(ysteps)\n",
    "for in_i in range(ins): \n",
    "    for out_i in range(outs):\n",
    "        plt.subplot(outs, ins, 1 + in_i + out_i*ins)\n",
    "        plt.plot(tstep, ysteps[out_i][in_i])\n",
    "plt.show()"
   ]
  },
  {
   "cell_type": "markdown",
   "metadata": {},
   "source": [
    "### Test step response model"
   ]
  },
  {
   "cell_type": "code",
   "execution_count": 6,
   "metadata": {},
   "outputs": [
    {
     "data": {
      "text/plain": [
       "((2, 2, 100), (2, 2, 20), (200, 40))"
      ]
     },
     "execution_count": 6,
     "metadata": {},
     "output_type": "execute_result"
    }
   ],
   "source": [
    "cols = ysteps[:, :, :P] if P < N else numpy.append(ysteps, numpy.moveaxis(numpy.tile(ysteps[:, :, -1], (P-N,1,1)), 0, -1), axis=2)\n",
    "rows = numpy.append(ysteps[:, :, :1], numpy.zeros((outs, ins, M-1)), axis=2)\n",
    "As = numpy.zeros_like(G.D11).tolist()\n",
    "\n",
    "for in_i in range(ins): \n",
    "    for out_i in range(outs):\n",
    "        As[out_i][in_i] = scipy.linalg.toeplitz(cols[out_i][in_i], rows[out_i][in_i])\n",
    "\n",
    "A = numpy.block(As)\n",
    "cols.shape, rows.shape, A.shape"
   ]
  },
  {
   "cell_type": "code",
   "execution_count": 7,
   "metadata": {},
   "outputs": [
    {
     "data": {
      "text/plain": [
       "40"
      ]
     },
     "execution_count": 7,
     "metadata": {},
     "output_type": "execute_result"
    }
   ],
   "source": [
    "dU1 = [-1.5]*10 + [2]*7 + [0]*3\n",
    "dU2 = [1] + [0]*9 + [-1] + [0]*9\n",
    "dU = dU1 + dU2\n",
    "len(dU)"
   ]
  },
  {
   "cell_type": "code",
   "execution_count": 8,
   "metadata": {},
   "outputs": [
    {
     "data": {
      "text/plain": [
       "((200,), (100,))"
      ]
     },
     "execution_count": 8,
     "metadata": {},
     "output_type": "execute_result"
    }
   ],
   "source": [
    "y = A @ dU\n",
    "t = numpy.arange(0, P*dt, dt)\n",
    "y.shape, t.shape"
   ]
  },
  {
   "cell_type": "code",
   "execution_count": 9,
   "metadata": {},
   "outputs": [
    {
     "data": {
      "text/plain": [
       "array([], shape=(2, 2, 0), dtype=int64)"
      ]
     },
     "execution_count": 9,
     "metadata": {},
     "output_type": "execute_result"
    }
   ],
   "source": [
    "numpy.tile(numpy.arange(1, P-N+1), (2, 2, 1))"
   ]
  },
  {
   "cell_type": "code",
   "execution_count": 10,
   "metadata": {},
   "outputs": [
    {
     "data": {
      "text/plain": [
       "array([[1.38700545e+84, 0.00000000e+00],\n",
       "       [0.00000000e+00, 0.00000000e+00]])"
      ]
     },
     "execution_count": 10,
     "metadata": {},
     "output_type": "execute_result"
    }
   ],
   "source": [
    "dys = ysteps[:, :, -1] - ysteps[:, :, -2]\n",
    "\n",
    "dys[0, 1] = dys[1, 0] = dys[1, 1] = 0\n",
    "dys"
   ]
  },
  {
   "cell_type": "code",
   "execution_count": 11,
   "metadata": {},
   "outputs": [
    {
     "data": {
      "text/plain": [
       "((2, 2, 100), (2, 2, 20), (200, 40))"
      ]
     },
     "execution_count": 11,
     "metadata": {},
     "output_type": "execute_result"
    }
   ],
   "source": [
    "cols = numpy.zeros((outs, ins, P)) if P < N else numpy.append(numpy.zeros((outs, ins, N)), numpy.tile(numpy.arange(1, P-N+1), (2, 2, 1)), axis=2)\n",
    "rows = numpy.zeros((outs, ins, M))\n",
    "\n",
    "Bs = numpy.zeros_like(G.D11).tolist()\n",
    "\n",
    "for in_i in range(ins): \n",
    "    for out_i in range(outs):\n",
    "        Bs[out_i][in_i] = scipy.linalg.toeplitz(cols[out_i][in_i], rows[out_i][in_i]) * dys[out_i][in_i]\n",
    "\n",
    "B = numpy.block(Bs)\n",
    "cols.shape, rows.shape, B.shape"
   ]
  },
  {
   "cell_type": "code",
   "execution_count": 12,
   "metadata": {},
   "outputs": [],
   "source": [
    "yi = B @ dU\n",
    "\n",
    "y += yi"
   ]
  },
  {
   "cell_type": "code",
   "execution_count": 13,
   "metadata": {},
   "outputs": [
    {
     "data": {
      "image/png": "[encoded data removed]",
      "text/plain": [
       "<Figure size 432x288 with 1 Axes>"
      ]
     },
     "metadata": {},
     "output_type": "display_data"
    }
   ],
   "source": [
    "plt.plot(t, y[:100])\n",
    "# plt.plot(t, y[100:])\n",
    "plt.show()"
   ]
  },
  {
   "cell_type": "code",
   "execution_count": 14,
   "metadata": {},
   "outputs": [
    {
     "data": {
      "text/plain": [
       "(array([ -1.5,  -3. ,  -4.5,  -6. ,  -7.5,  -9. , -10.5, -12. , -13.5,\n",
       "        -15. , -13. , -11. ,  -9. ,  -7. ,  -5. ,  -3. ,  -1. ,  -1. ,\n",
       "         -1. ,  -1. ]),\n",
       " array([1, 1, 1, 1, 1, 1, 1, 1, 1, 1, 0, 0, 0, 0, 0, 0, 0, 0, 0, 0]))"
      ]
     },
     "execution_count": 14,
     "metadata": {},
     "output_type": "execute_result"
    }
   ],
   "source": [
    "numpy.cumsum(dU1), numpy.cumsum(dU2)"
   ]
  },
  {
   "cell_type": "code",
   "execution_count": 15,
   "metadata": {},
   "outputs": [
    {
     "data": {
      "text/plain": [
       "-13.0"
      ]
     },
     "execution_count": 15,
     "metadata": {},
     "output_type": "execute_result"
    }
   ],
   "source": [
    "numpy.cumsum(dU1)[numpy.where(tstep <= 5)[0][-1]]"
   ]
  },
  {
   "cell_type": "code",
   "execution_count": 16,
   "metadata": {},
   "outputs": [
    {
     "data": {
      "image/png": "[encoded data removed]",
      "text/plain": [
       "<Figure size 432x288 with 1 Axes>"
      ]
     },
     "metadata": {},
     "output_type": "display_data"
    },
    {
     "data": {
      "image/png": "[encoded data removed]",
      "text/plain": [
       "<Figure size 432x288 with 1 Axes>"
      ]
     },
     "metadata": {},
     "output_type": "display_data"
    }
   ],
   "source": [
    "def uf(t):\n",
    "    if t < len(dU1)*dt:\n",
    "        return [numpy.cumsum(dU1)[numpy.where(tstep <= t)[0][-1]], numpy.cumsum(dU2)[numpy.where(tstep <= t)[0][-1]]]\n",
    "    else:\n",
    "        return [numpy.cumsum(dU1)[-1], numpy.cumsum(dU2)[-1]]\n",
    "ts = numpy.linspace(0 , dt*P, 1000)\n",
    "\n",
    "\n",
    "tstep = numpy.arange(0, P*dt, dt)\n",
    "\n",
    "ys = G.simulate(uf, ts)\n",
    "\n",
    "plt.plot(ts, ys[:, 0])\n",
    "plt.plot(t, y[:100])\n",
    "plt.show()\n",
    "\n",
    "plt.plot(ts, ys[:, 1])\n",
    "plt.plot(t, y[100:])\n",
    "plt.show()"
   ]
  },
  {
   "cell_type": "code",
   "execution_count": null,
   "metadata": {},
   "outputs": [],
   "source": []
  },
  {
   "cell_type": "code",
   "execution_count": null,
   "metadata": {},
   "outputs": [],
   "source": []
  }
 ],
 "metadata": {
  "kernelspec": {
   "display_name": "Python 3",
   "language": "python",
   "name": "python3"
  },
  "language_info": {
   "codemirror_mode": {
    "name": "ipython",
    "version": 3
   },
   "file_extension": ".py",
   "mimetype": "text/x-python",
   "name": "python",
   "nbconvert_exporter": "python",
   "pygments_lexer": "ipython3",
   "version": "3.6.8"
  }
 },
 "nbformat": 4,
 "nbformat_minor": 2
}
