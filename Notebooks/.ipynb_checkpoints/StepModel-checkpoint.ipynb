{
 "cells": [
  {
   "cell_type": "markdown",
   "metadata": {},
   "source": [
    "Works perfectly for stable systems and systems with integrators. Does an okay job with unstable systems.\n",
    "The goal would be to test if they can stabalise a plant in closed loop conditions"
   ]
  },
  {
   "cell_type": "code",
   "execution_count": 1,
   "metadata": {},
   "outputs": [],
   "source": [
    "import sys\n",
    "sys.path.append(\"/home/ex/Documents/Hons/CBT/Skogestad-Python\")\n",
    "import utils\n",
    "import numpy\n",
    "import matplotlib.pyplot as plt\n",
    "import scipy.linalg"
   ]
  },
  {
   "cell_type": "code",
   "execution_count": 2,
   "metadata": {},
   "outputs": [],
   "source": [
    "class StepModel:\n",
    "    def __init__(self, G, dt, N, P, M, integrators=True):\n",
    "        self.G = G\n",
    "        self.dt = dt\n",
    "        self.N = N\n",
    "        self.P = P\n",
    "        self.M = M\n",
    "        self.integrators = integrators\n",
    "        \n",
    "        self.outs, self.ins = self.G.D11.shape\n",
    "        \n",
    "        self.__make_step_coeffs()\n",
    "        self.__make_step_matrix()\n",
    "        \n",
    "        self.Y0 = numpy.zeros(self.A.shape[0])        \n",
    "    \n",
    "    def step_Y0(self, dU): # Untested. Will test with MPC implementation        \n",
    "        Im = numpy.eye(self.outs)\n",
    "        M_siso = numpy.eye(self.P, k=1)\n",
    "        M_siso[self.P-1][self.P-1] = 1\n",
    "        M = numpy.kron(M_siso, Im)\n",
    "        \n",
    "        A_star = self.A[:, ::P]\n",
    "        \n",
    "        self.Y0 += M @ self.Y0 + A_star @ dU\n",
    "        \n",
    "    def __make_step_coeffs(self):        \n",
    "        t= self.N*self.dt\n",
    "        ts = numpy.linspace(0 , t, int(t*100))\n",
    "        tstep = numpy.arange(0, t, self.dt)\n",
    "        ind = numpy.searchsorted(ts, tstep)\n",
    "        ysteps = numpy.zeros_like(self.G.D11).tolist()\n",
    "\n",
    "        for in_i in range(self.ins): \n",
    "            uf = lambda t: [0]*in_i + [1] + [0]*(self.ins-in_i-1)\n",
    "            ys = self.G.simulate(uf, ts)\n",
    "\n",
    "            for out_i in range(self.outs):\n",
    "                yi = ys[:, out_i][ind]\n",
    "                largest = 1e9\n",
    "                yi[yi>largest] = largest\n",
    "                yi[yi<-largest] = -largest\n",
    "                ysteps[out_i][in_i] = yi\n",
    "                \n",
    "        self.ysteps = numpy.array(ysteps)\n",
    "        \n",
    "    def __make_step_matrix(self):\n",
    "        if self.P < self.N:\n",
    "            cols = self.ysteps[:, :, :self.P] \n",
    "        else:\n",
    "            a = numpy.moveaxis(numpy.tile(self.ysteps[:, :, -1], (self.P - self.N,1,1)), 0, -1)\n",
    "            cols = numpy.append(self.ysteps, a, axis=2)\n",
    "        \n",
    "        rows = numpy.append(self.ysteps[:, :, :1], numpy.zeros((self.outs, self.ins, self.M-1)), axis=2)\n",
    "        As = numpy.zeros_like(self.G.D11).tolist()\n",
    "\n",
    "        for in_i in range(self.ins): \n",
    "            for out_i in range(self.outs):\n",
    "                As[out_i][in_i] = scipy.linalg.toeplitz(cols[out_i][in_i], rows[out_i][in_i])\n",
    "\n",
    "        self.A = numpy.block(As)\n",
    "        \n",
    "        if self.integrators:\n",
    "            self.__make_integrators_matrix()\n",
    "            self.A += self.B\n",
    "        \n",
    "        \n",
    "    def __make_integrators_matrix(self):\n",
    "        dys = self.ysteps[:, :, -1] - self.ysteps[:, :, -2]\n",
    "\n",
    "        if P < N:\n",
    "            cols = numpy.zeros((self.outs, self.ins, self.P))\n",
    "        else:\n",
    "            a = numpy.tile(numpy.arange(1, self.P-self.N+1), (2, 2, 1))\n",
    "            cols = numpy.append(numpy.zeros((self.outs, self.ins, self.N)), a, axis=2)\n",
    "        rows = numpy.zeros((self.outs, self.ins, self.M))\n",
    "\n",
    "        Bs = numpy.zeros_like(self.G.D11).tolist()\n",
    "\n",
    "        for in_i in range(self.ins): \n",
    "            for out_i in range(self.outs):\n",
    "                Bs[out_i][in_i] = scipy.linalg.toeplitz(cols[out_i][in_i], rows[out_i][in_i]) * dys[out_i][in_i]\n",
    "\n",
    "        self.B = numpy.block(Bs)"
   ]
  },
  {
   "cell_type": "markdown",
   "metadata": {},
   "source": [
    "## Test the class"
   ]
  },
  {
   "cell_type": "markdown",
   "metadata": {},
   "source": [
    "### Step response coeffs"
   ]
  },
  {
   "cell_type": "code",
   "execution_count": 3,
   "metadata": {},
   "outputs": [],
   "source": [
    "# Slightly adapted from  H/W assignment 9\n",
    "num = [[[-0.045], [-0.048]], [[-0.23], [0.55]]]\n",
    "den = [[[1, -4, 5], [11, 1]], [[8.1, 1], [10, 1]]] # [[[8.1, 1], [11, 1]], [[8.1, 1], [10, 1]]]\n",
    "delay = [[0.5, 0.5], [1.5, 0.5]]\n",
    "G = utils.InternalDelay.from_tf_coefficients(num, den, delay)"
   ]
  },
  {
   "cell_type": "code",
   "execution_count": 4,
   "metadata": {},
   "outputs": [],
   "source": [
    "N = 50\n",
    "dt = 2\n",
    "M = 20\n",
    "P = M+N"
   ]
  },
  {
   "cell_type": "code",
   "execution_count": 5,
   "metadata": {},
   "outputs": [
    {
     "data": {
      "image/png": "[encoded data removed]",
      "text/plain": [
       "<Figure size 432x288 with 4 Axes>"
      ]
     },
     "metadata": {},
     "output_type": "display_data"
    }
   ],
   "source": [
    "SM = StepModel(G, dt, N, P, M)\n",
    "\n",
    "tstep = numpy.arange(0, N*dt, dt)\n",
    "\n",
    "for in_i in range(SM.ins): \n",
    "    for out_i in range(SM.outs):\n",
    "        plt.subplot(SM.outs, SM.ins, 1 + in_i + out_i*SM.ins)\n",
    "        plt.plot(tstep, SM.ysteps[out_i][in_i])\n",
    "plt.show()"
   ]
  },
  {
   "cell_type": "markdown",
   "metadata": {},
   "source": [
    "### Prediction"
   ]
  },
  {
   "cell_type": "code",
   "execution_count": 6,
   "metadata": {},
   "outputs": [],
   "source": [
    "dU1 = [-1.5]*10 + [2]*7 + [0]*3\n",
    "dU2 = [1] + [0]*9 + [-1] + [0]*9\n",
    "dU = dU1 + dU2"
   ]
  },
  {
   "cell_type": "code",
   "execution_count": 7,
   "metadata": {},
   "outputs": [],
   "source": [
    "y = SM.A @ dU\n",
    "t = numpy.arange(0, P*dt, dt)"
   ]
  },
  {
   "cell_type": "code",
   "execution_count": 8,
   "metadata": {},
   "outputs": [
    {
     "data": {
      "image/png": "[encoded data removed]",
      "text/plain": [
       "<Figure size 432x288 with 1 Axes>"
      ]
     },
     "metadata": {},
     "output_type": "display_data"
    },
    {
     "data": {
      "image/png": "[encoded data removed]",
      "text/plain": [
       "<Figure size 432x288 with 1 Axes>"
      ]
     },
     "metadata": {},
     "output_type": "display_data"
    }
   ],
   "source": [
    "def uf(t):\n",
    "    if t < len(dU1)*dt:\n",
    "        return [numpy.cumsum(dU1)[numpy.where(tstep <= t)[0][-1]], numpy.cumsum(dU2)[numpy.where(tstep <= t)[0][-1]]]\n",
    "    else:\n",
    "        return [numpy.cumsum(dU1)[-1], numpy.cumsum(dU2)[-1]]\n",
    "ts = numpy.linspace(0 , dt*P, 1000)\n",
    "\n",
    "\n",
    "tstep = numpy.arange(0, P*dt, dt)\n",
    "\n",
    "ys = G.simulate(uf, ts)\n",
    "\n",
    "plt.plot(ts, ys[:, 0])\n",
    "plt.plot(t, y[:P])\n",
    "plt.show()\n",
    "\n",
    "plt.plot(ts, ys[:, 1])\n",
    "plt.plot(t, y[P:])\n",
    "plt.show()"
   ]
  }
 ],
 "metadata": {
  "kernelspec": {
   "display_name": "Python 3",
   "language": "python",
   "name": "python3"
  },
  "language_info": {
   "codemirror_mode": {
    "name": "ipython",
    "version": 3
   },
   "file_extension": ".py",
   "mimetype": "text/x-python",
   "name": "python",
   "nbconvert_exporter": "python",
   "pygments_lexer": "ipython3",
   "version": "3.6.8"
  }
 },
 "nbformat": 4,
 "nbformat_minor": 2
}
