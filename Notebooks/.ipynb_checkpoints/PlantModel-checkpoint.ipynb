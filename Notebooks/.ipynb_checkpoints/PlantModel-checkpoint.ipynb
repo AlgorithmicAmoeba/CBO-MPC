{
 "cells": [
  {
   "cell_type": "code",
   "execution_count": 1,
   "metadata": {},
   "outputs": [],
   "source": [
    "import sys\n",
    "sys.path.append(\"/home/ex/Documents/Hons/CBT/Skogestad-Python\")\n",
    "import utils\n",
    "import numpy\n",
    "import matplotlib.pyplot as plt"
   ]
  },
  {
   "cell_type": "code",
   "execution_count": 14,
   "metadata": {},
   "outputs": [],
   "source": [
    "class PlantModel:\n",
    "    def __init__(self, G, x0=None):\n",
    "        self.G = G\n",
    "        if x0 is None:\n",
    "            self.x = numpy.zeros(G.A.shape[0])\n",
    "            \n",
    "        self.zs = []\n",
    "        \n",
    "\n",
    "    def step(self, u, dt):\n",
    "        \"\"\"\n",
    "        Steps the response of the system to the input.\n",
    "        Uses a Runge-Kutta delay integration routine.\n",
    "        Parameters:\n",
    "            u:      array_like\n",
    "                    The input to the system.\n",
    "            dt:     float\n",
    "                    A scalar indicating the time sincde the previous call\n",
    "\n",
    "        Returns:\n",
    "            y:      array_like\n",
    "                    The output from the system\n",
    "\n",
    "        \"\"\"\n",
    "\n",
    "        dtss = [int(numpy.round(delay / dt)) for delay in self.G.delays]\n",
    "\n",
    "        def wf():\n",
    "            ws = []\n",
    "            for i, dts in enumerate(dtss):\n",
    "                if len(self.zs) <= dts:\n",
    "                    ws.append(0)\n",
    "                elif dts == 0:\n",
    "                    ws.append(self.zs[-1][i])\n",
    "                else:\n",
    "                    ws.append(self.zs[-dts][i])\n",
    "\n",
    "            return numpy.array(ws)\n",
    "\n",
    "        def f(t, x):\n",
    "            return self.G.A @ x + self.G.B1 @ u + self.G.B2 @ wf()\n",
    "\n",
    "\n",
    "        # y\n",
    "        y = self.G.C1 @ numpy.array(self.x) + self.G.D11 @ u + self.G.D12 @ wf()\n",
    "\n",
    "        # z\n",
    "        z = self.G.C2 @ numpy.array(self.x) + self.G.D21 @ u + self.G.D22 @ wf()\n",
    "        self.zs.append(list(z))\n",
    "\n",
    "        # x integration\n",
    "        k1 = f(t, self.x) * dt\n",
    "        k2 = f(t + 0.5 * dt, self.x + 0.5 * k1) * dt\n",
    "        k3 = f(t + 0.5 * dt, self.x + 0.5 * k2) * dt\n",
    "        k4 = f(t + dt, self.x + k3) * dt\n",
    "        dx = (k1 + k2 + k2 + k3 + k3 + k4) / 6\n",
    "        self.x = [xi + dxi for xi, dxi in zip(self.x, dx)]\n",
    "\n",
    "        return y\n"
   ]
  },
  {
   "cell_type": "code",
   "execution_count": 15,
   "metadata": {},
   "outputs": [],
   "source": [
    "# Slightly adapted from  H/W assignment 9\n",
    "num = [[[-0.045], [-0.048]], [[-0.23], [0.55]]]\n",
    "den = [[[1, -4, 5], [11, 1]], [[8.1, 1], [10, 1]]] # [[[8.1, 1], [11, 1]], [[8.1, 1], [10, 1]]]\n",
    "delay = [[0.5, 0.5], [1.5, 0.5]]\n",
    "G = utils.InternalDelay.from_tf_coefficients(num, den, delay)"
   ]
  },
  {
   "cell_type": "code",
   "execution_count": 16,
   "metadata": {},
   "outputs": [],
   "source": [
    "pm = PlantModel(G)"
   ]
  },
  {
   "cell_type": "code",
   "execution_count": 17,
   "metadata": {},
   "outputs": [],
   "source": [
    "N = 50\n",
    "dt = 2\n",
    "M = 20\n",
    "P = M+N"
   ]
  },
  {
   "cell_type": "code",
   "execution_count": 19,
   "metadata": {},
   "outputs": [],
   "source": [
    "ts = numpy.linspace(0, 100, 1000)\n",
    "tstep = numpy.arange(0, N*dt, dt)\n",
    "\n",
    "dU1 = [-1.5]*10 + [2]*7 + [0]*3\n",
    "dU2 = [1] + [0]*9 + [-1] + [0]*9\n",
    "\n",
    "U1, U2 = numpy.cumsum(dU1), numpy.cumsum(dU2)\n",
    "ys_m = []\n",
    "\n",
    "for t in ts:\n",
    "    if t < len(dU1)*dt:\n",
    "        U = [U1[numpy.where(tstep <= t)[0][-1]], U2[numpy.where(tstep <= t)[0][-1]]]\n",
    "    else:\n",
    "        U = [U1[-1], U2[-1]]\n",
    "        \n",
    "    ys_m.append(pm.step(U, dt))\n",
    "    \n",
    "ys_m = numpy.array(ys_m)"
   ]
  },
  {
   "cell_type": "code",
   "execution_count": null,
   "metadata": {},
   "outputs": [],
   "source": []
  },
  {
   "cell_type": "code",
   "execution_count": 20,
   "metadata": {},
   "outputs": [
    {
     "ename": "TypeError",
     "evalue": "list indices must be integers or slices, not tuple",
     "output_type": "error",
     "traceback": [
      "\u001b[0;31m---------------------------------------------------------------------------\u001b[0m",
      "\u001b[0;31mTypeError\u001b[0m                                 Traceback (most recent call last)",
      "\u001b[0;32m<ipython-input-20-bf6f91ab1567>\u001b[0m in \u001b[0;36m<module>\u001b[0;34m()\u001b[0m\n\u001b[1;32m     12\u001b[0m \u001b[0;34m\u001b[0m\u001b[0m\n\u001b[1;32m     13\u001b[0m \u001b[0mplt\u001b[0m\u001b[0;34m.\u001b[0m\u001b[0mplot\u001b[0m\u001b[0;34m(\u001b[0m\u001b[0mts\u001b[0m\u001b[0;34m,\u001b[0m \u001b[0mys\u001b[0m\u001b[0;34m[\u001b[0m\u001b[0;34m:\u001b[0m\u001b[0;34m,\u001b[0m \u001b[0;36m0\u001b[0m\u001b[0;34m]\u001b[0m\u001b[0;34m)\u001b[0m\u001b[0;34m\u001b[0m\u001b[0;34m\u001b[0m\u001b[0m\n\u001b[0;32m---> 14\u001b[0;31m \u001b[0mplt\u001b[0m\u001b[0;34m.\u001b[0m\u001b[0mplot\u001b[0m\u001b[0;34m(\u001b[0m\u001b[0mt\u001b[0m\u001b[0;34m,\u001b[0m \u001b[0mys_m\u001b[0m\u001b[0;34m[\u001b[0m\u001b[0;34m:\u001b[0m\u001b[0;34m,\u001b[0m \u001b[0;36m0\u001b[0m\u001b[0;34m]\u001b[0m\u001b[0;34m)\u001b[0m\u001b[0;34m\u001b[0m\u001b[0;34m\u001b[0m\u001b[0m\n\u001b[0m\u001b[1;32m     15\u001b[0m \u001b[0mplt\u001b[0m\u001b[0;34m.\u001b[0m\u001b[0mshow\u001b[0m\u001b[0;34m(\u001b[0m\u001b[0;34m)\u001b[0m\u001b[0;34m\u001b[0m\u001b[0;34m\u001b[0m\u001b[0m\n\u001b[1;32m     16\u001b[0m \u001b[0;34m\u001b[0m\u001b[0m\n",
      "\u001b[0;31mTypeError\u001b[0m: list indices must be integers or slices, not tuple"
     ]
    }
   ],
   "source": [
    "def uf(t):\n",
    "    if t < len(dU1)*dt:\n",
    "        return [numpy.cumsum(dU1)[numpy.where(tstep <= t)[0][-1]], numpy.cumsum(dU2)[numpy.where(tstep <= t)[0][-1]]]\n",
    "    else:\n",
    "        return [numpy.cumsum(dU1)[-1], numpy.cumsum(dU2)[-1]]\n",
    "ts = numpy.linspace(0 , dt*P, 1000)\n",
    "\n",
    "\n",
    "tstep = numpy.arange(0, P*dt, dt)\n",
    "\n",
    "ys = G.simulate(uf, ts)\n",
    "\n",
    "plt.plot(ts, ys[:, 0])\n",
    "plt.plot(t, ys_m[:, 0])\n",
    "plt.show()\n",
    "\n",
    "plt.plot(ts, ys[:, 1])\n",
    "plt.plot(t, ys_m[:, 1])\n",
    "plt.show()"
   ]
  },
  {
   "cell_type": "code",
   "execution_count": null,
   "metadata": {},
   "outputs": [],
   "source": []
  }
 ],
 "metadata": {
  "kernelspec": {
   "display_name": "Python 3",
   "language": "python",
   "name": "python3"
  },
  "language_info": {
   "codemirror_mode": {
    "name": "ipython",
    "version": 3
   },
   "file_extension": ".py",
   "mimetype": "text/x-python",
   "name": "python",
   "nbconvert_exporter": "python",
   "pygments_lexer": "ipython3",
   "version": "3.6.8"
  }
 },
 "nbformat": 4,
 "nbformat_minor": 2
}
