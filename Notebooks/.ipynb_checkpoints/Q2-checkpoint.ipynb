{
 "cells": [
  {
   "cell_type": "code",
   "execution_count": 1,
   "metadata": {},
   "outputs": [],
   "source": [
    "import numpy\n",
    "import sympy\n",
    "import control\n",
    "import matplotlib.pyplot as plt\n",
    "import sys\n",
    "sys.path.append(\"/home/ex/Documents/Hons/CBT/Skogestad-Python\")\n",
    "import utils\n",
    "\n",
    "sympy.init_printing()"
   ]
  },
  {
   "cell_type": "code",
   "execution_count": 2,
   "metadata": {},
   "outputs": [
    {
     "name": "stdout",
     "output_type": "stream",
     "text": [
      "A &= \\left[\\begin{matrix}-3.0 & 2.0\\\\2.0 & -5.0\\end{matrix}\\right]\n",
      "&\n",
      "B &= \\left[\\begin{matrix}1.0\\\\0.0\\end{matrix}\\right]\n",
      "\\\\\n",
      "C &= \\left[\\begin{matrix}1.0 & 0.0\\\\0.0 & 1.0\\end{matrix}\\right]\n",
      "&\n",
      "D &= \\left[\\begin{matrix}0.0\\\\0.0\\end{matrix}\\right]\n",
      "\\\\\n"
     ]
    }
   ],
   "source": [
    "A1, A2, R1, R2, R3 = 1, 0.5, 0.5, 2, 1\n",
    "\n",
    "A = numpy.matrix([[ -1/A1/R3 - 1/A1/R1, 1/A1/R1],\n",
    "                  [ 1/A1/R1, -1/A2/R1 - 1/A2/R2]])\n",
    "\n",
    "B = numpy.matrix([[ 1/A1 ],\n",
    "                  [ 0]])\n",
    "\n",
    "C = numpy.eye(2)\n",
    "\n",
    "D = numpy.zeros((2, 1))\n",
    "\n",
    "G = control.StateSpace(A, B, C, D)\n",
    "\n",
    "for matrix, l in zip([G.A, G.B, G.C, G.D], ['A', 'B', 'C', 'D']) :\n",
    "        if l in ['B', 'D']:\n",
    "            print(\"&\")\n",
    "        print(f\"{l} &= \" + sympy.latex(sympy.Matrix(numpy.round(matrix, 5))))\n",
    "        if l in ['B', 'D']:\n",
    "            print(\"\\\\\\\\\")"
   ]
  },
  {
   "cell_type": "code",
   "execution_count": 3,
   "metadata": {},
   "outputs": [
    {
     "data": {
      "image/png": "[encoded data removed]",
      "text/plain": [
       "<Figure size 432x288 with 1 Axes>"
      ]
     },
     "metadata": {},
     "output_type": "display_data"
    }
   ],
   "source": [
    "ts = numpy.linspace(0, 10, 100)\n",
    "_, ys = control.step_response(G, ts)\n",
    "\n",
    "plt.plot(ts, ys[0], label=r\"$x_1$\")\n",
    "plt.plot(ts, ys[1], label=r\"$x_2$\")\n",
    "plt.legend()\n",
    "plt.xlabel(\"Time\")\n",
    "plt.ylabel(\"Height\")\n",
    "plt.xlim(0, 10)\n",
    "plt.savefig(\"a2q2.pdf\")\n",
    "plt.show()"
   ]
  },
  {
   "cell_type": "code",
   "execution_count": 4,
   "metadata": {},
   "outputs": [
    {
     "data": {
      "text/plain": [
       "\n",
       "Input 1 to output 1:\n",
       "    s + 5\n",
       "--------------\n",
       "s^2 + 8 s + 11\n",
       "\n",
       "Input 1 to output 2:\n",
       "      2\n",
       "--------------\n",
       "s^2 + 8 s + 11"
      ]
     },
     "execution_count": 4,
     "metadata": {},
     "output_type": "execute_result"
    }
   ],
   "source": [
    "control.ss2tf(G)"
   ]
  },
  {
   "cell_type": "code",
   "execution_count": null,
   "metadata": {},
   "outputs": [],
   "source": []
  }
 ],
 "metadata": {
  "kernelspec": {
   "display_name": "Python 3",
   "language": "python",
   "name": "python3"
  },
  "language_info": {
   "codemirror_mode": {
    "name": "ipython",
    "version": 3
   },
   "file_extension": ".py",
   "mimetype": "text/x-python",
   "name": "python",
   "nbconvert_exporter": "python",
   "pygments_lexer": "ipython3",
   "version": "3.6.4"
  }
 },
 "nbformat": 4,
 "nbformat_minor": 2
}
