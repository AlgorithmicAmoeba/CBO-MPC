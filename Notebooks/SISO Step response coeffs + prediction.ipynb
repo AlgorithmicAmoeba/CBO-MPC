{
 "cells": [
  {
   "cell_type": "markdown",
   "metadata": {},
   "source": [
    "Works perfectly for stable systems and systems with integrators. Does an okay job with unstable systems.\n",
    "The goal would be to test if they can stabalise a plant in closed loop conditions"
   ]
  },
  {
   "cell_type": "code",
   "execution_count": 1,
   "metadata": {},
   "outputs": [],
   "source": [
    "import sys\n",
    "sys.path.append(\"/home/ex/Documents/Hons/CBT/Skogestad-Python\")\n",
    "import utils\n",
    "import numpy\n",
    "import matplotlib.pyplot as plt\n",
    "import scipy.linalg"
   ]
  },
  {
   "cell_type": "markdown",
   "metadata": {},
   "source": [
    "### Defining the TF\n",
    "(see H/W assignment 9)"
   ]
  },
  {
   "cell_type": "code",
   "execution_count": 2,
   "metadata": {},
   "outputs": [],
   "source": [
    "# Origional system\n",
    "# num = [[[-0.045], [-0.048]], [[-0.23], [0.55]]]\n",
    "# den = [[[8.1, 1], [11, 1]], [[8.1, 1], [10, 1]]]\n",
    "# delay = [[0.5, 0.5], [1.5, 0.5]]\n",
    "# G = utils.InternalDelay.from_tf_coefficients(num, den, delay)"
   ]
  },
  {
   "cell_type": "code",
   "execution_count": 35,
   "metadata": {},
   "outputs": [],
   "source": [
    "# Integrator in 0, 0 element\n",
    "num = [[[-0.045], [-0.048]], [[-0.23], [0.55]]]\n",
    "den = [[[1, -4, 5], [11, 1]], [[8.1, 1], [10, 1]]]\n",
    "delay = [[0.5, 0.5], [1.5, 0.5]]\n",
    "G = utils.InternalDelay.from_tf_coefficients(num, den, delay)"
   ]
  },
  {
   "cell_type": "markdown",
   "metadata": {},
   "source": [
    "### Get step response paramaters"
   ]
  },
  {
   "cell_type": "code",
   "execution_count": 76,
   "metadata": {},
   "outputs": [],
   "source": [
    "N = 50\n",
    "dt = 1\n",
    "\n",
    "P = 100\n",
    "M = 20"
   ]
  },
  {
   "cell_type": "code",
   "execution_count": 77,
   "metadata": {},
   "outputs": [
    {
     "data": {
      "image/png": "[encoded data removed]",
      "text/plain": [
       "<Figure size 432x288 with 1 Axes>"
      ]
     },
     "metadata": {},
     "output_type": "display_data"
    }
   ],
   "source": [
    "uf = lambda t: [1, 0]\n",
    "ts = numpy.linspace(0 , 50, 1000)\n",
    "\n",
    "\n",
    "tstep = numpy.arange(0, N*dt, dt)\n",
    "\n",
    "ys = G.simulate(uf, ts)\n",
    "\n",
    "y = ys[:, 0]\n",
    "ystep = y[numpy.searchsorted(ts, tstep)]\n",
    "plt.plot(ts, ys[:, 0])\n",
    "plt.plot(tstep, ystep, '.')\n",
    "plt.show()"
   ]
  },
  {
   "cell_type": "markdown",
   "metadata": {},
   "source": [
    "### Test step response model"
   ]
  },
  {
   "cell_type": "code",
   "execution_count": 78,
   "metadata": {},
   "outputs": [
    {
     "data": {
      "text/plain": [
       "(100, 20, (100, 20))"
      ]
     },
     "execution_count": 78,
     "metadata": {},
     "output_type": "execute_result"
    }
   ],
   "source": [
    "col = ystep[:P] if P < N else list(ystep) + [ystep[-1]]*(P-N)\n",
    "row = [ystep[0]] + [0]*(M-1)\n",
    "A = scipy.linalg.toeplitz(col, row)\n",
    "\n",
    "len(col), len(row), A.shape"
   ]
  },
  {
   "cell_type": "code",
   "execution_count": 79,
   "metadata": {},
   "outputs": [
    {
     "data": {
      "text/plain": [
       "20"
      ]
     },
     "execution_count": 79,
     "metadata": {},
     "output_type": "execute_result"
    }
   ],
   "source": [
    "# dU = [-1.5]*10 + [2]*7 + [0]*3\n",
    "dU = [1] + [0]*9 + [-1] + [0]*9\n",
    "len(dU)"
   ]
  },
  {
   "cell_type": "code",
   "execution_count": 80,
   "metadata": {},
   "outputs": [
    {
     "data": {
      "text/plain": [
       "((100,), (100,))"
      ]
     },
     "execution_count": 80,
     "metadata": {},
     "output_type": "execute_result"
    }
   ],
   "source": [
    "y = A @ dU\n",
    "t = numpy.arange(0, P*dt, dt)\n",
    "y.shape, t.shape"
   ]
  },
  {
   "cell_type": "code",
   "execution_count": 81,
   "metadata": {},
   "outputs": [],
   "source": [
    "dy = ystep[-1] - ystep[-2]\n",
    "\n",
    "col = [0]*P if P < N else [0]*N + list(range(1, P-N+1))\n",
    "row = [0]*M\n",
    "B = scipy.linalg.toeplitz(col, row)*dy\n",
    "\n",
    "len(col), len(row), B.shape\n",
    "\n",
    "yi = B @ dU\n",
    "\n",
    "y += yi"
   ]
  },
  {
   "cell_type": "code",
   "execution_count": 82,
   "metadata": {},
   "outputs": [
    {
     "data": {
      "image/png": "[encoded data removed]",
      "text/plain": [
       "<Figure size 432x288 with 1 Axes>"
      ]
     },
     "metadata": {},
     "output_type": "display_data"
    }
   ],
   "source": [
    "plt.plot(t, y)\n",
    "plt.show()"
   ]
  },
  {
   "cell_type": "code",
   "execution_count": 83,
   "metadata": {},
   "outputs": [
    {
     "data": {
      "text/plain": [
       "array([1, 1, 1, 1, 1, 1, 1, 1, 1, 1, 0, 0, 0, 0, 0, 0, 0, 0, 0, 0])"
      ]
     },
     "execution_count": 83,
     "metadata": {},
     "output_type": "execute_result"
    }
   ],
   "source": [
    "numpy.cumsum(dU)"
   ]
  },
  {
   "cell_type": "code",
   "execution_count": 103,
   "metadata": {},
   "outputs": [
    {
     "data": {
      "image/png": "[encoded data removed]",
      "text/plain": [
       "<Figure size 432x288 with 1 Axes>"
      ]
     },
     "metadata": {},
     "output_type": "display_data"
    }
   ],
   "source": [
    "def uf(t):\n",
    "    if t < len(dU)*dt:\n",
    "        return [numpy.cumsum(dU)[numpy.where(tstep <= t)[0][-1]], 0]\n",
    "    else:\n",
    "        return [numpy.cumsum(dU)[-1], 0]\n",
    "ts = numpy.linspace(0 , dt*P, 1000)\n",
    "\n",
    "\n",
    "tstep = numpy.arange(0, P*dt, dt)\n",
    "\n",
    "ys = G.simulate(uf, ts)\n",
    "\n",
    "plt.plot(ts, ys[:, 0])\n",
    "plt.plot(t, y)\n",
    "plt.xlim(0, 90)\n",
    "plt.ylim(0, 1e43)\n",
    "plt.show()"
   ]
  },
  {
   "cell_type": "code",
   "execution_count": null,
   "metadata": {},
   "outputs": [],
   "source": []
  },
  {
   "cell_type": "code",
   "execution_count": null,
   "metadata": {},
   "outputs": [],
   "source": []
  }
 ],
 "metadata": {
  "kernelspec": {
   "display_name": "Python 3",
   "language": "python",
   "name": "python3"
  },
  "language_info": {
   "codemirror_mode": {
    "name": "ipython",
    "version": 3
   },
   "file_extension": ".py",
   "mimetype": "text/x-python",
   "name": "python",
   "nbconvert_exporter": "python",
   "pygments_lexer": "ipython3",
   "version": "3.6.8"
  }
 },
 "nbformat": 4,
 "nbformat_minor": 2
}
